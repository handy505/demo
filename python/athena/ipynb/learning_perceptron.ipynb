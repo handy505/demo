{
 "cells": [
  {
   "cell_type": "code",
   "execution_count": 1,
   "metadata": {},
   "outputs": [
    {
     "name": "stdout",
     "output_type": "stream",
     "text": [
      "dataset: [[1, 0, 0, -1], [1, 0, 1, 1], [1, 1, 0, 1], [1, 1, 1, 1]]\n",
      "Initial PLA with ws: [0, 0, 0], ys: [-1, 1, 1, 1]\n",
      "---------------------------------------------\n",
      "PLA with xs: [1, 0, 0], ws: [0, 0, 0], y: -1, output:  0\n",
      "Learning: ws = [-1  0  0]\n",
      "[0.         0.02040816 0.04081633 0.06122449 0.08163265 0.10204082\n",
      " 0.12244898 0.14285714 0.16326531 0.18367347 0.20408163 0.2244898\n",
      " 0.24489796 0.26530612 0.28571429 0.30612245 0.32653061 0.34693878\n",
      " 0.36734694 0.3877551  0.40816327 0.42857143 0.44897959 0.46938776\n",
      " 0.48979592 0.51020408 0.53061224 0.55102041 0.57142857 0.59183673\n",
      " 0.6122449  0.63265306 0.65306122 0.67346939 0.69387755 0.71428571\n",
      " 0.73469388 0.75510204 0.7755102  0.79591837 0.81632653 0.83673469\n",
      " 0.85714286 0.87755102 0.89795918 0.91836735 0.93877551 0.95918367\n",
      " 0.97959184 1.        ]\n"
     ]
    },
    {
     "ename": "ZeroDivisionError",
     "evalue": "division by zero",
     "output_type": "error",
     "traceback": [
      "\u001b[1;31m---------------------------------------------------------------------------\u001b[0m",
      "\u001b[1;31mZeroDivisionError\u001b[0m                         Traceback (most recent call last)",
      "\u001b[1;32m<ipython-input-1-0efdcc65e69a>\u001b[0m in \u001b[0;36m<module>\u001b[1;34m\u001b[0m\n\u001b[0;32m     81\u001b[0m \u001b[1;33m\u001b[0m\u001b[0m\n\u001b[0;32m     82\u001b[0m \u001b[1;33m\u001b[0m\u001b[0m\n\u001b[1;32m---> 83\u001b[1;33m \u001b[0mpla\u001b[0m\u001b[1;33m(\u001b[0m\u001b[0mdataset\u001b[0m\u001b[1;33m)\u001b[0m\u001b[1;33m\u001b[0m\u001b[1;33m\u001b[0m\u001b[0m\n\u001b[0m",
      "\u001b[1;32m<ipython-input-1-0efdcc65e69a>\u001b[0m in \u001b[0;36mpla\u001b[1;34m(dataset)\u001b[0m\n\u001b[0;32m     66\u001b[0m                 \u001b[0mx_vector\u001b[0m \u001b[1;33m=\u001b[0m \u001b[0mnp\u001b[0m\u001b[1;33m.\u001b[0m\u001b[0mlinspace\u001b[0m\u001b[1;33m(\u001b[0m\u001b[1;36m0\u001b[0m\u001b[1;33m,\u001b[0m\u001b[1;36m1\u001b[0m\u001b[1;33m)\u001b[0m\u001b[1;33m\u001b[0m\u001b[1;33m\u001b[0m\u001b[0m\n\u001b[0;32m     67\u001b[0m                 \u001b[0mprint\u001b[0m\u001b[1;33m(\u001b[0m\u001b[0mx_vector\u001b[0m\u001b[1;33m)\u001b[0m\u001b[1;33m\u001b[0m\u001b[1;33m\u001b[0m\u001b[0m\n\u001b[1;32m---> 68\u001b[1;33m                 \u001b[0my_vector\u001b[0m \u001b[1;33m=\u001b[0m \u001b[1;33m(\u001b[0m\u001b[0mx\u001b[0m\u001b[1;33m[\u001b[0m\u001b[1;36m2\u001b[0m\u001b[1;33m]\u001b[0m\u001b[1;33m/\u001b[0m\u001b[0mx\u001b[0m\u001b[1;33m[\u001b[0m\u001b[1;36m1\u001b[0m\u001b[1;33m]\u001b[0m\u001b[1;33m)\u001b[0m\u001b[1;33m*\u001b[0m\u001b[0mx_vector\u001b[0m\u001b[1;33m\u001b[0m\u001b[1;33m\u001b[0m\u001b[0m\n\u001b[0m\u001b[0;32m     69\u001b[0m                 \u001b[0mplt\u001b[0m\u001b[1;33m.\u001b[0m\u001b[0mplot\u001b[0m\u001b[1;33m(\u001b[0m\u001b[0mx_vector\u001b[0m\u001b[1;33m,\u001b[0m \u001b[0my_vector\u001b[0m\u001b[1;33m,\u001b[0m\u001b[1;34m'b'\u001b[0m\u001b[1;33m)\u001b[0m\u001b[1;33m\u001b[0m\u001b[1;33m\u001b[0m\u001b[0m\n\u001b[0;32m     70\u001b[0m \u001b[1;33m\u001b[0m\u001b[0m\n",
      "\u001b[1;31mZeroDivisionError\u001b[0m: division by zero"
     ]
    },
    {
     "data": {
      "image/png": "[encoded data removed]",
      "text/plain": [
       "<Figure size 432x288 with 1 Axes>"
      ]
     },
     "metadata": {
      "needs_background": "light"
     },
     "output_type": "display_data"
    }
   ],
   "source": [
    "import numpy as np\n",
    "import matplotlib.pyplot as plt\n",
    "import seaborn as sns\n",
    "%matplotlib inline\n",
    "\n",
    "# -------------------------------------------------\n",
    "def sign(x):\n",
    "    if x > 0: return 1\n",
    "    else:     return 0\n",
    "    \n",
    "def activation_function(x):\n",
    "    return sign(x)\n",
    "\n",
    "def proceptron_output(ws, xs):\n",
    "    result = np.dot(ws, xs)\n",
    "    result = activation_function(result)\n",
    "    return result\n",
    "\n",
    "# -------------------------------------------------\n",
    "\n",
    "dataset = [[1, 0, 0,-1],\n",
    "           [1, 0, 1, 1],\n",
    "           [1, 1, 0, 1],\n",
    "           [1, 1, 1, 1]\n",
    "          ]\n",
    "\n",
    "\n",
    "x = [0, 0, 1, 1]\n",
    "y = [0, 1, 0, 1]\n",
    "#plt.scatter(x[:3], y[:3], marker='o', c='black')\n",
    "#plt.scatter(x[-1], y[-1], marker='o', c='red')\n",
    "\n",
    "plt.plot(x[:3], y[:3], 'o', color='black')\n",
    "plt.plot(x[-1], y[-1], 'o', color='red')\n",
    "\n",
    "\n",
    "def pla(dataset):\n",
    "\n",
    "    ws = [0, 0, 0]\n",
    "    ys = [data[-1] for data in dataset]\n",
    "    print('dataset: {}'.format(dataset))\n",
    "    print('Initial PLA with ws: {}, ys: {}'.format(ws, ys))\n",
    "    print('---------------------------------------------')\n",
    "    \n",
    "    \n",
    "    outputs = []\n",
    "\n",
    "    keep_going = True\n",
    "    #while keep_going:\n",
    "    for i in range(1, 20):\n",
    "        \n",
    "        keep_going = False\n",
    "        for data in dataset:\n",
    "            xs = data[0:3]\n",
    "            y = data[-1]\n",
    "            output = proceptron_output(ws, xs)\n",
    "            print('PLA with xs: {}, ws: {}, y: {:2d}, output: {:2d}'.format(xs, ws, y, output))\n",
    "            if output != y:\n",
    "                dw = np.multiply(y, xs)\n",
    "                ws = np.add(ws, dw)\n",
    "                \n",
    "                print('Learning: ws = {}'.format(ws))\n",
    "                keep_going = True\n",
    "                \n",
    "                \n",
    "                x_vector = np.linspace(0,1)\n",
    "                print(x_vector)\n",
    "                y_vector = (x[2]/x[1])*x_vector\n",
    "                plt.plot(x_vector, y_vector,'b')\n",
    "                \n",
    "                \n",
    "                \n",
    "                \n",
    "                \n",
    "                \n",
    "                break\n",
    "        print('{} ---------------------------------------------'.format(i))\n",
    "        if not keep_going:\n",
    "            break\n",
    "    return ws\n",
    "\n",
    "\n",
    "pla(dataset)"
   ]
  },
  {
   "cell_type": "code",
   "execution_count": null,
   "metadata": {},
   "outputs": [],
   "source": []
  },
  {
   "cell_type": "code",
   "execution_count": null,
   "metadata": {},
   "outputs": [],
   "source": []
  }
 ],
 "metadata": {
  "kernelspec": {
   "display_name": "Python 3",
   "language": "python",
   "name": "python3"
  },
  "language_info": {
   "codemirror_mode": {
    "name": "ipython",
    "version": 3
   },
   "file_extension": ".py",
   "mimetype": "text/x-python",
   "name": "python",
   "nbconvert_exporter": "python",
   "pygments_lexer": "ipython3",
   "version": "3.7.4"
  }
 },
 "nbformat": 4,
 "nbformat_minor": 2
}
