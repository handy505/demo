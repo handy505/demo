{
 "cells": [
  {
   "cell_type": "code",
   "execution_count": 2,
   "metadata": {},
   "outputs": [],
   "source": [
    "import sqlite3\n",
    "import pandas as pd\n",
    "import numpy as np\n",
    "import matplotlib.pyplot as plt\n",
    "from pandas.plotting import register_matplotlib_converters\n",
    "%matplotlib inline\n",
    "register_matplotlib_converters()"
   ]
  },
  {
   "cell_type": "code",
   "execution_count": 3,
   "metadata": {},
   "outputs": [],
   "source": [
    "filename = '..\\solardb\\AnXin-2020-0505.db'\n",
    "with sqlite3.connect(filename) as con:\n",
    "    irradf  = pd.read_sql('''select * from imeter_minutely''', con=con)\n",
    "irradf.LoggedDatetime  = pd.to_datetime(irradf.LoggedDatetime)"
   ]
  },
  {
   "cell_type": "code",
   "execution_count": 4,
   "metadata": {},
   "outputs": [],
   "source": [
    "irradf = irradf.set_index('LoggedDatetime')"
   ]
  },
  {
   "cell_type": "code",
   "execution_count": 9,
   "metadata": {},
   "outputs": [
    {
     "name": "stdout",
     "output_type": "stream",
     "text": [
      "Collecting pandas-profiling\n",
      "  Using cached https://files.pythonhosted.org/packages/b9/94/ef8ef4517540d13406fcc0b8adfd75336e014242c69bd4162ab46931f36a/pandas_profiling-2.8.0-py2.py3-none-any.whl\n",
      "Requirement already satisfied: numpy>=1.16.0 in c:\\programdata\\anaconda3\\lib\\site-packages (from pandas-profiling) (1.16.5)\n",
      "Collecting missingno>=0.4.2 (from pandas-profiling)\n",
      "  Using cached https://files.pythonhosted.org/packages/2b/de/6e4dd6d720c49939544352155dc06a08c9f7e4271aa631a559dfbeaaf9d4/missingno-0.4.2-py3-none-any.whl\n",
      "Collecting requests>=2.23.0 (from pandas-profiling)\n",
      "  Using cached https://files.pythonhosted.org/packages/1a/70/1935c770cb3be6e3a8b78ced23d7e0f3b187f5cbfab4749523ed65d7c9b1/requests-2.23.0-py2.py3-none-any.whl\n",
      "Collecting tqdm>=4.43.0 (from pandas-profiling)\n",
      "  Using cached https://files.pythonhosted.org/packages/f3/76/4697ce203a3d42b2ead61127b35e5fcc26bba9a35c03b32a2bd342a4c869/tqdm-4.46.1-py2.py3-none-any.whl\n",
      "Collecting matplotlib>=3.2.0 (from pandas-profiling)\n",
      "  Using cached https://files.pythonhosted.org/packages/b4/4d/8a2c06cb69935bb762738a8b9d5f8ce2a66be5a1410787839b71e146f000/matplotlib-3.2.1-cp37-cp37m-win_amd64.whl\n",
      "Requirement already satisfied: ipywidgets>=7.5.1 in c:\\programdata\\anaconda3\\lib\\site-packages (from pandas-profiling) (7.5.1)\n",
      "Collecting confuse>=1.0.0 (from pandas-profiling)\n",
      "Collecting pandas!=1.0.0,!=1.0.1,!=1.0.2,>=0.25.3 (from pandas-profiling)\n",
      "  Using cached https://files.pythonhosted.org/packages/1d/eb/b4f68f54ad287d583c9c3b3c77f865615f832f092810f20d2b44498cd06c/pandas-1.0.4-cp37-cp37m-win_amd64.whl\n",
      "Collecting phik>=0.9.10 (from pandas-profiling)\n",
      "  Using cached https://files.pythonhosted.org/packages/01/5a/7ef1c04ce62cd72f900c06298dc2385840550d5c653a0dbc19109a5477e6/phik-0.10.0-py3-none-any.whl\n",
      "Collecting jinja2>=2.11.1 (from pandas-profiling)\n",
      "  Using cached https://files.pythonhosted.org/packages/30/9e/f663a2aa66a09d838042ae1a2c5659828bb9b41ea3a6efa20a20fd92b121/Jinja2-2.11.2-py2.py3-none-any.whl\n",
      "Collecting tangled-up-in-unicode>=0.0.6 (from pandas-profiling)\n",
      "  Using cached https://files.pythonhosted.org/packages/4a/e2/e588ab9298d4989ce7fdb2b97d18aac878d99dbdc379a4476a09d9271b68/tangled_up_in_unicode-0.0.6-py3-none-any.whl\n",
      "Collecting scipy>=1.4.1 (from pandas-profiling)\n",
      "  Using cached https://files.pythonhosted.org/packages/61/51/046cbc61c7607e5ecead6ff1a9453fba5e7e47a5ea8d608cc7036586a5ef/scipy-1.4.1-cp37-cp37m-win_amd64.whl\n",
      "Requirement already satisfied: joblib in c:\\programdata\\anaconda3\\lib\\site-packages (from pandas-profiling) (0.13.2)\n",
      "Collecting htmlmin>=0.1.12 (from pandas-profiling)\n",
      "Collecting astropy>=4.0 (from pandas-profiling)\n",
      "  Using cached https://files.pythonhosted.org/packages/bc/15/0eb51474954e7e1e14aa8ba08611ecc9999e0499e3a300c5e8be95544416/astropy-4.0.1.post1-cp37-cp37m-win_amd64.whl\n",
      "Collecting visions[type_image_path]==0.4.4 (from pandas-profiling)\n",
      "  Using cached https://files.pythonhosted.org/packages/4a/03/5a45d542257830cf1d9da2cdc1c0bc6f55a9212937b70fdd6d7031b46d6c/visions-0.4.4-py3-none-any.whl\n",
      "Requirement already satisfied: seaborn in c:\\programdata\\anaconda3\\lib\\site-packages (from missingno>=0.4.2->pandas-profiling) (0.9.0)\n",
      "Requirement already satisfied: chardet<4,>=3.0.2 in c:\\programdata\\anaconda3\\lib\\site-packages (from requests>=2.23.0->pandas-profiling) (3.0.4)\n",
      "Requirement already satisfied: idna<3,>=2.5 in c:\\programdata\\anaconda3\\lib\\site-packages (from requests>=2.23.0->pandas-profiling) (2.8)\n",
      "Requirement already satisfied: certifi>=2017.4.17 in c:\\programdata\\anaconda3\\lib\\site-packages (from requests>=2.23.0->pandas-profiling) (2019.9.11)\n",
      "Requirement already satisfied: urllib3!=1.25.0,!=1.25.1,<1.26,>=1.21.1 in c:\\programdata\\anaconda3\\lib\\site-packages (from requests>=2.23.0->pandas-profiling) (1.24.2)\n",
      "Requirement already satisfied: python-dateutil>=2.1 in c:\\programdata\\anaconda3\\lib\\site-packages (from matplotlib>=3.2.0->pandas-profiling) (2.8.0)\n",
      "Requirement already satisfied: kiwisolver>=1.0.1 in c:\\programdata\\anaconda3\\lib\\site-packages (from matplotlib>=3.2.0->pandas-profiling) (1.1.0)\n",
      "Requirement already satisfied: cycler>=0.10 in c:\\programdata\\anaconda3\\lib\\site-packages (from matplotlib>=3.2.0->pandas-profiling) (0.10.0)\n",
      "Requirement already satisfied: pyparsing!=2.0.4,!=2.1.2,!=2.1.6,>=2.0.1 in c:\\programdata\\anaconda3\\lib\\site-packages (from matplotlib>=3.2.0->pandas-profiling) (2.4.2)\n",
      "Requirement already satisfied: nbformat>=4.2.0 in c:\\programdata\\anaconda3\\lib\\site-packages (from ipywidgets>=7.5.1->pandas-profiling) (4.4.0)\n",
      "Requirement already satisfied: ipython>=4.0.0; python_version >= \"3.3\" in c:\\programdata\\anaconda3\\lib\\site-packages (from ipywidgets>=7.5.1->pandas-profiling) (7.8.0)\n",
      "Requirement already satisfied: ipykernel>=4.5.1 in c:\\programdata\\anaconda3\\lib\\site-packages (from ipywidgets>=7.5.1->pandas-profiling) (5.1.2)\n",
      "Requirement already satisfied: widgetsnbextension~=3.5.0 in c:\\programdata\\anaconda3\\lib\\site-packages (from ipywidgets>=7.5.1->pandas-profiling) (3.5.1)\n",
      "Requirement already satisfied: traitlets>=4.3.1 in c:\\programdata\\anaconda3\\lib\\site-packages (from ipywidgets>=7.5.1->pandas-profiling) (4.3.3)\n",
      "Requirement already satisfied: pyyaml in c:\\programdata\\anaconda3\\lib\\site-packages (from confuse>=1.0.0->pandas-profiling) (5.1.2)\n",
      "Requirement already satisfied: pytz>=2017.2 in c:\\programdata\\anaconda3\\lib\\site-packages (from pandas!=1.0.0,!=1.0.1,!=1.0.2,>=0.25.3->pandas-profiling) (2019.3)\n",
      "Requirement already satisfied: numba>=0.38.1 in c:\\programdata\\anaconda3\\lib\\site-packages (from phik>=0.9.10->pandas-profiling) (0.45.1)\n",
      "Requirement already satisfied: MarkupSafe>=0.23 in c:\\programdata\\anaconda3\\lib\\site-packages (from jinja2>=2.11.1->pandas-profiling) (1.1.1)\n",
      "Collecting attrs>=19.3.0 (from visions[type_image_path]==0.4.4->pandas-profiling)\n",
      "  Using cached https://files.pythonhosted.org/packages/a2/db/4313ab3be961f7a763066401fb77f7748373b6094076ae2bda2806988af6/attrs-19.3.0-py2.py3-none-any.whl\n",
      "Collecting networkx>=2.4 (from visions[type_image_path]==0.4.4->pandas-profiling)\n",
      "  Using cached https://files.pythonhosted.org/packages/41/8f/dd6a8e85946def36e4f2c69c84219af0fa5e832b018c970e92f2ad337e45/networkx-2.4-py3-none-any.whl\n",
      "Requirement already satisfied: Pillow; extra == \"type_image_path\" in c:\\programdata\\anaconda3\\lib\\site-packages (from visions[type_image_path]==0.4.4->pandas-profiling) (6.2.0)\n",
      "Collecting imagehash; extra == \"type_image_path\" (from visions[type_image_path]==0.4.4->pandas-profiling)\n",
      "Requirement already satisfied: six>=1.5 in c:\\users\\handy\\appdata\\roaming\\python\\python37\\site-packages (from python-dateutil>=2.1->matplotlib>=3.2.0->pandas-profiling) (1.12.0)\n",
      "Requirement already satisfied: setuptools in c:\\programdata\\anaconda3\\lib\\site-packages (from kiwisolver>=1.0.1->matplotlib>=3.2.0->pandas-profiling) (41.4.0)\n",
      "Requirement already satisfied: jupyter-core in c:\\programdata\\anaconda3\\lib\\site-packages (from nbformat>=4.2.0->ipywidgets>=7.5.1->pandas-profiling) (4.5.0)\n",
      "Requirement already satisfied: jsonschema!=2.5.0,>=2.4 in c:\\programdata\\anaconda3\\lib\\site-packages (from nbformat>=4.2.0->ipywidgets>=7.5.1->pandas-profiling) (3.0.2)\n",
      "Requirement already satisfied: ipython-genutils in c:\\programdata\\anaconda3\\lib\\site-packages (from nbformat>=4.2.0->ipywidgets>=7.5.1->pandas-profiling) (0.2.0)\n",
      "Requirement already satisfied: pygments in c:\\programdata\\anaconda3\\lib\\site-packages (from ipython>=4.0.0; python_version >= \"3.3\"->ipywidgets>=7.5.1->pandas-profiling) (2.4.2)\n",
      "Requirement already satisfied: colorama; sys_platform == \"win32\" in c:\\users\\handy\\appdata\\roaming\\python\\python37\\site-packages (from ipython>=4.0.0; python_version >= \"3.3\"->ipywidgets>=7.5.1->pandas-profiling) (0.4.1)\n",
      "Requirement already satisfied: pickleshare in c:\\programdata\\anaconda3\\lib\\site-packages (from ipython>=4.0.0; python_version >= \"3.3\"->ipywidgets>=7.5.1->pandas-profiling) (0.7.5)\n",
      "Requirement already satisfied: decorator in c:\\programdata\\anaconda3\\lib\\site-packages (from ipython>=4.0.0; python_version >= \"3.3\"->ipywidgets>=7.5.1->pandas-profiling) (4.4.0)\n",
      "Requirement already satisfied: jedi>=0.10 in c:\\programdata\\anaconda3\\lib\\site-packages (from ipython>=4.0.0; python_version >= \"3.3\"->ipywidgets>=7.5.1->pandas-profiling) (0.15.1)\n",
      "Requirement already satisfied: prompt-toolkit<2.1.0,>=2.0.0 in c:\\programdata\\anaconda3\\lib\\site-packages (from ipython>=4.0.0; python_version >= \"3.3\"->ipywidgets>=7.5.1->pandas-profiling) (2.0.10)\n",
      "Requirement already satisfied: backcall in c:\\programdata\\anaconda3\\lib\\site-packages (from ipython>=4.0.0; python_version >= \"3.3\"->ipywidgets>=7.5.1->pandas-profiling) (0.1.0)\n",
      "Requirement already satisfied: tornado>=4.2 in c:\\programdata\\anaconda3\\lib\\site-packages (from ipykernel>=4.5.1->ipywidgets>=7.5.1->pandas-profiling) (6.0.3)\n",
      "Requirement already satisfied: jupyter-client in c:\\programdata\\anaconda3\\lib\\site-packages (from ipykernel>=4.5.1->ipywidgets>=7.5.1->pandas-profiling) (5.3.3)\n",
      "Requirement already satisfied: notebook>=4.4.1 in c:\\programdata\\anaconda3\\lib\\site-packages (from widgetsnbextension~=3.5.0->ipywidgets>=7.5.1->pandas-profiling) (6.0.1)\n",
      "Requirement already satisfied: llvmlite>=0.29.0dev0 in c:\\programdata\\anaconda3\\lib\\site-packages (from numba>=0.38.1->phik>=0.9.10->pandas-profiling) (0.29.0)\n",
      "Requirement already satisfied: PyWavelets in c:\\programdata\\anaconda3\\lib\\site-packages (from imagehash; extra == \"type_image_path\"->visions[type_image_path]==0.4.4->pandas-profiling) (1.0.3)\n",
      "Requirement already satisfied: pyrsistent>=0.14.0 in c:\\programdata\\anaconda3\\lib\\site-packages (from jsonschema!=2.5.0,>=2.4->nbformat>=4.2.0->ipywidgets>=7.5.1->pandas-profiling) (0.15.4)\n",
      "Requirement already satisfied: parso>=0.5.0 in c:\\programdata\\anaconda3\\lib\\site-packages (from jedi>=0.10->ipython>=4.0.0; python_version >= \"3.3\"->ipywidgets>=7.5.1->pandas-profiling) (0.5.1)\n",
      "Requirement already satisfied: wcwidth in c:\\programdata\\anaconda3\\lib\\site-packages (from prompt-toolkit<2.1.0,>=2.0.0->ipython>=4.0.0; python_version >= \"3.3\"->ipywidgets>=7.5.1->pandas-profiling) (0.1.7)\n",
      "Requirement already satisfied: pywin32>=1.0; sys_platform == \"win32\" in c:\\programdata\\anaconda3\\lib\\site-packages (from jupyter-client->ipykernel>=4.5.1->ipywidgets>=7.5.1->pandas-profiling) (223)\n",
      "Requirement already satisfied: pyzmq>=13 in c:\\programdata\\anaconda3\\lib\\site-packages (from jupyter-client->ipykernel>=4.5.1->ipywidgets>=7.5.1->pandas-profiling) (18.1.0)\n",
      "Requirement already satisfied: nbconvert in c:\\programdata\\anaconda3\\lib\\site-packages (from notebook>=4.4.1->widgetsnbextension~=3.5.0->ipywidgets>=7.5.1->pandas-profiling) (5.6.0)\n",
      "Requirement already satisfied: Send2Trash in c:\\programdata\\anaconda3\\lib\\site-packages (from notebook>=4.4.1->widgetsnbextension~=3.5.0->ipywidgets>=7.5.1->pandas-profiling) (1.5.0)\n",
      "Requirement already satisfied: terminado>=0.8.1 in c:\\programdata\\anaconda3\\lib\\site-packages (from notebook>=4.4.1->widgetsnbextension~=3.5.0->ipywidgets>=7.5.1->pandas-profiling) (0.8.2)\n",
      "Requirement already satisfied: prometheus-client in c:\\programdata\\anaconda3\\lib\\site-packages (from notebook>=4.4.1->widgetsnbextension~=3.5.0->ipywidgets>=7.5.1->pandas-profiling) (0.7.1)\n",
      "Requirement already satisfied: testpath in c:\\programdata\\anaconda3\\lib\\site-packages (from nbconvert->notebook>=4.4.1->widgetsnbextension~=3.5.0->ipywidgets>=7.5.1->pandas-profiling) (0.4.2)\n",
      "Requirement already satisfied: entrypoints>=0.2.2 in c:\\programdata\\anaconda3\\lib\\site-packages (from nbconvert->notebook>=4.4.1->widgetsnbextension~=3.5.0->ipywidgets>=7.5.1->pandas-profiling) (0.3)\n",
      "Requirement already satisfied: defusedxml in c:\\programdata\\anaconda3\\lib\\site-packages (from nbconvert->notebook>=4.4.1->widgetsnbextension~=3.5.0->ipywidgets>=7.5.1->pandas-profiling) (0.6.0)\n",
      "Requirement already satisfied: mistune<2,>=0.8.1 in c:\\programdata\\anaconda3\\lib\\site-packages (from nbconvert->notebook>=4.4.1->widgetsnbextension~=3.5.0->ipywidgets>=7.5.1->pandas-profiling) (0.8.4)\n",
      "Requirement already satisfied: bleach in c:\\programdata\\anaconda3\\lib\\site-packages (from nbconvert->notebook>=4.4.1->widgetsnbextension~=3.5.0->ipywidgets>=7.5.1->pandas-profiling) (3.1.0)\n",
      "Requirement already satisfied: pandocfilters>=1.4.1 in c:\\programdata\\anaconda3\\lib\\site-packages (from nbconvert->notebook>=4.4.1->widgetsnbextension~=3.5.0->ipywidgets>=7.5.1->pandas-profiling) (1.4.2)\n",
      "Requirement already satisfied: webencodings in c:\\programdata\\anaconda3\\lib\\site-packages (from bleach->nbconvert->notebook>=4.4.1->widgetsnbextension~=3.5.0->ipywidgets>=7.5.1->pandas-profiling) (0.5.1)\n",
      "Installing collected packages: matplotlib, scipy, missingno, requests, tqdm, confuse, pandas, phik, jinja2, tangled-up-in-unicode, htmlmin, astropy, attrs, networkx, imagehash, visions, pandas-profiling\n",
      "  Found existing installation: matplotlib 3.1.1\n",
      "    Uninstalling matplotlib-3.1.1:\n"
     ]
    },
    {
     "name": "stderr",
     "output_type": "stream",
     "text": [
      "ERROR: phik 0.10.0 has requirement joblib>=0.14.1, but you'll have joblib 0.13.2 which is incompatible.\n",
      "ERROR: Could not install packages due to an EnvironmentError: [WinError 5] 存取被拒。: 'c:\\\\programdata\\\\anaconda3\\\\lib\\\\site-packages\\\\__pycache__\\\\pylab.cpython-37.pyc'\n",
      "Consider using the `--user` option or check the permissions.\n",
      "\n"
     ]
    },
    {
     "ename": "ModuleNotFoundError",
     "evalue": "No module named 'pandas_profiling'",
     "output_type": "error",
     "traceback": [
      "\u001b[1;31m---------------------------------------------------------------------------\u001b[0m",
      "\u001b[1;31mModuleNotFoundError\u001b[0m                       Traceback (most recent call last)",
      "\u001b[1;32m<ipython-input-9-6a978b36c106>\u001b[0m in \u001b[0;36m<module>\u001b[1;34m\u001b[0m\n\u001b[0;32m      4\u001b[0m \u001b[0mget_ipython\u001b[0m\u001b[1;33m(\u001b[0m\u001b[1;33m)\u001b[0m\u001b[1;33m.\u001b[0m\u001b[0msystem\u001b[0m\u001b[1;33m(\u001b[0m\u001b[1;34m'{sys.executable} -m pip install pandas-profiling'\u001b[0m\u001b[1;33m)\u001b[0m\u001b[1;33m\u001b[0m\u001b[1;33m\u001b[0m\u001b[0m\n\u001b[0;32m      5\u001b[0m \u001b[1;33m\u001b[0m\u001b[0m\n\u001b[1;32m----> 6\u001b[1;33m \u001b[1;32mimport\u001b[0m \u001b[0mpandas_profiling\u001b[0m\u001b[1;33m\u001b[0m\u001b[1;33m\u001b[0m\u001b[0m\n\u001b[0m\u001b[0;32m      7\u001b[0m \u001b[0mpandas_profiling\u001b[0m\u001b[1;33m.\u001b[0m\u001b[0mProfileReport\u001b[0m\u001b[1;33m(\u001b[0m\u001b[0mirradf\u001b[0m\u001b[1;33m)\u001b[0m\u001b[1;33m\u001b[0m\u001b[1;33m\u001b[0m\u001b[0m\n",
      "\u001b[1;31mModuleNotFoundError\u001b[0m: No module named 'pandas_profiling'"
     ]
    }
   ],
   "source": [
    "#import pandas_profiling\n",
    "\n",
    "import sys\n",
    "!{sys.executable} -m pip install pandas-profiling\n",
    "\n",
    "import pandas_profiling\n",
    "pandas_profiling.ProfileReport(irradf)\n"
   ]
  },
  {
   "cell_type": "code",
   "execution_count": 8,
   "metadata": {},
   "outputs": [
    {
     "name": "stdout",
     "output_type": "stream",
     "text": [
      "2020-05-05 05:00:00 to 2020-05-05 06:00:00, mean:13.362, std:13.244\n",
      "2020-05-05 06:00:00 to 2020-05-05 07:00:00, mean:138.797, std:55.732\n",
      "2020-05-05 07:00:00 to 2020-05-05 08:00:00, mean:338.373, std:62.983\n",
      "2020-05-05 08:00:00 to 2020-05-05 09:00:00, mean:552.966, std:58.589\n",
      "2020-05-05 09:00:00 to 2020-05-05 10:00:00, mean:691.431, std:69.758\n",
      "2020-05-05 10:00:00 to 2020-05-05 11:00:00, mean:843.833, std:33.493\n",
      "2020-05-05 11:00:00 to 2020-05-05 12:00:00, mean:923.793, std:16.540\n",
      "2020-05-05 12:00:00 to 2020-05-05 13:00:00, mean:907.048, std:29.932\n",
      "2020-05-05 13:00:00 to 2020-05-05 14:00:00, mean:827.431, std:69.213\n",
      "2020-05-05 14:00:00 to 2020-05-05 15:00:00, mean:688.508, std:73.918\n",
      "2020-05-05 15:00:00 to 2020-05-05 16:00:00, mean:502.914, std:62.608\n",
      "2020-05-05 16:00:00 to 2020-05-05 17:00:00, mean:282.407, std:66.386\n",
      "2020-05-05 17:00:00 to 2020-05-05 18:00:00, mean:99.914, std:48.332\n"
     ]
    },
    {
     "data": {
      "text/html": [
       "<div>\n",
       "<style scoped>\n",
       "    .dataframe tbody tr th:only-of-type {\n",
       "        vertical-align: middle;\n",
       "    }\n",
       "\n",
       "    .dataframe tbody tr th {\n",
       "        vertical-align: top;\n",
       "    }\n",
       "\n",
       "    .dataframe thead th {\n",
       "        text-align: right;\n",
       "    }\n",
       "</style>\n",
       "<table border=\"1\" class=\"dataframe\">\n",
       "  <thead>\n",
       "    <tr style=\"text-align: right;\">\n",
       "      <th></th>\n",
       "      <th>mean</th>\n",
       "      <th>std</th>\n",
       "    </tr>\n",
       "    <tr>\n",
       "      <th>hour</th>\n",
       "      <th></th>\n",
       "      <th></th>\n",
       "    </tr>\n",
       "  </thead>\n",
       "  <tbody>\n",
       "    <tr>\n",
       "      <td>2020-05-05 05:00:00</td>\n",
       "      <td>13.361702</td>\n",
       "      <td>13.244237</td>\n",
       "    </tr>\n",
       "    <tr>\n",
       "      <td>2020-05-05 06:00:00</td>\n",
       "      <td>138.796610</td>\n",
       "      <td>55.732359</td>\n",
       "    </tr>\n",
       "    <tr>\n",
       "      <td>2020-05-05 07:00:00</td>\n",
       "      <td>338.372881</td>\n",
       "      <td>62.983002</td>\n",
       "    </tr>\n",
       "    <tr>\n",
       "      <td>2020-05-05 08:00:00</td>\n",
       "      <td>552.966102</td>\n",
       "      <td>58.589444</td>\n",
       "    </tr>\n",
       "    <tr>\n",
       "      <td>2020-05-05 09:00:00</td>\n",
       "      <td>691.431034</td>\n",
       "      <td>69.758257</td>\n",
       "    </tr>\n",
       "    <tr>\n",
       "      <td>2020-05-05 10:00:00</td>\n",
       "      <td>843.833333</td>\n",
       "      <td>33.492567</td>\n",
       "    </tr>\n",
       "    <tr>\n",
       "      <td>2020-05-05 11:00:00</td>\n",
       "      <td>923.793103</td>\n",
       "      <td>16.539966</td>\n",
       "    </tr>\n",
       "    <tr>\n",
       "      <td>2020-05-05 12:00:00</td>\n",
       "      <td>907.047619</td>\n",
       "      <td>29.931591</td>\n",
       "    </tr>\n",
       "    <tr>\n",
       "      <td>2020-05-05 13:00:00</td>\n",
       "      <td>827.431034</td>\n",
       "      <td>69.212643</td>\n",
       "    </tr>\n",
       "    <tr>\n",
       "      <td>2020-05-05 14:00:00</td>\n",
       "      <td>688.508475</td>\n",
       "      <td>73.918262</td>\n",
       "    </tr>\n",
       "    <tr>\n",
       "      <td>2020-05-05 15:00:00</td>\n",
       "      <td>502.913793</td>\n",
       "      <td>62.608302</td>\n",
       "    </tr>\n",
       "    <tr>\n",
       "      <td>2020-05-05 16:00:00</td>\n",
       "      <td>282.406780</td>\n",
       "      <td>66.386309</td>\n",
       "    </tr>\n",
       "    <tr>\n",
       "      <td>2020-05-05 17:00:00</td>\n",
       "      <td>99.913793</td>\n",
       "      <td>48.332287</td>\n",
       "    </tr>\n",
       "  </tbody>\n",
       "</table>\n",
       "</div>"
      ],
      "text/plain": [
       "                           mean        std\n",
       "hour                                      \n",
       "2020-05-05 05:00:00   13.361702  13.244237\n",
       "2020-05-05 06:00:00  138.796610  55.732359\n",
       "2020-05-05 07:00:00  338.372881  62.983002\n",
       "2020-05-05 08:00:00  552.966102  58.589444\n",
       "2020-05-05 09:00:00  691.431034  69.758257\n",
       "2020-05-05 10:00:00  843.833333  33.492567\n",
       "2020-05-05 11:00:00  923.793103  16.539966\n",
       "2020-05-05 12:00:00  907.047619  29.931591\n",
       "2020-05-05 13:00:00  827.431034  69.212643\n",
       "2020-05-05 14:00:00  688.508475  73.918262\n",
       "2020-05-05 15:00:00  502.913793  62.608302\n",
       "2020-05-05 16:00:00  282.406780  66.386309\n",
       "2020-05-05 17:00:00   99.913793  48.332287"
      ]
     },
     "execution_count": 8,
     "metadata": {},
     "output_type": "execute_result"
    }
   ],
   "source": [
    "import collections\n",
    "interval = collections.OrderedDict()\n",
    "for h in range(5, 18):\n",
    "    t1 = '2020-05-05 {:02d}:00:00'.format(h)\n",
    "    t2 = '2020-05-05 {:02d}:00:00'.format(h+1)\n",
    "    interval[h] = (t1, t2)\n",
    "    #print('{}, {}'.format(t1, t2))\n",
    "\n",
    "data = []\n",
    "for t in interval.values():\n",
    "    #print('{}, {}'.format(t[0], t[1]))\n",
    "    irrah = irradf[t[0]:t[1]]\n",
    "    print('{} to {}, mean:{:06.3f}, std:{:4.3f}'.format(t[0], t[1], irrah.Value.mean(), irrah.Value.std()))\n",
    "    \n",
    "    d = {'hour': t[0], 'mean': irrah.Value.mean(), 'std': irrah.Value.std()}\n",
    "    data.append(d)\n",
    "    \n",
    "df = pd.DataFrame(data)\n",
    "df = df.set_index('hour')\n",
    "df"
   ]
  },
  {
   "cell_type": "code",
   "execution_count": 9,
   "metadata": {},
   "outputs": [
    {
     "data": {
      "text/plain": [
       "<matplotlib.axes._subplots.AxesSubplot at 0x1df06de2bc8>"
      ]
     },
     "execution_count": 9,
     "metadata": {},
     "output_type": "execute_result"
    },
    {
     "data": {
      "image/png": "[encoded data removed]",
      "text/plain": [
       "<Figure size 432x288 with 1 Axes>"
      ]
     },
     "metadata": {
      "needs_background": "light"
     },
     "output_type": "display_data"
    }
   ],
   "source": [
    "%matplotlib inline\n",
    "import matplotlib.pyplot as plt\n",
    "import seaborn as sns\n",
    "import matplotlib\n",
    "#matplotlib.style.use(\"ggplot\")\n",
    "df.plot.bar()\n"
   ]
  },
  {
   "cell_type": "code",
   "execution_count": 23,
   "metadata": {},
   "outputs": [
    {
     "data": {
      "text/plain": [
       "hour\n",
       "2020-05-05 05:00:00     13.361702\n",
       "2020-05-05 06:00:00    138.796610\n",
       "2020-05-05 07:00:00    338.372881\n",
       "2020-05-05 08:00:00    552.966102\n",
       "2020-05-05 09:00:00    691.431034\n",
       "2020-05-05 10:00:00    843.833333\n",
       "2020-05-05 11:00:00    923.793103\n",
       "2020-05-05 12:00:00    907.047619\n",
       "2020-05-05 13:00:00    827.431034\n",
       "2020-05-05 14:00:00    688.508475\n",
       "2020-05-05 15:00:00    502.913793\n",
       "2020-05-05 16:00:00    282.406780\n",
       "2020-05-05 17:00:00     99.913793\n",
       "Name: mean, dtype: float64"
      ]
     },
     "execution_count": 23,
     "metadata": {},
     "output_type": "execute_result"
    },
    {
     "data": {
      "image/png": "[encoded data removed]",
      "text/plain": [
       "<Figure size 432x288 with 1 Axes>"
      ]
     },
     "metadata": {
      "needs_background": "light"
     },
     "output_type": "display_data"
    }
   ],
   "source": [
    "plt.errorbar(df.index, df['mean'], yerr=df['std'], fmt='o')\n",
    "df['mean']"
   ]
  },
  {
   "cell_type": "code",
   "execution_count": null,
   "metadata": {},
   "outputs": [],
   "source": []
  },
  {
   "cell_type": "code",
   "execution_count": null,
   "metadata": {},
   "outputs": [],
   "source": []
  },
  {
   "cell_type": "code",
   "execution_count": null,
   "metadata": {},
   "outputs": [],
   "source": []
  }
 ],
 "metadata": {
  "kernelspec": {
   "display_name": "Python 3",
   "language": "python",
   "name": "python3"
  },
  "language_info": {
   "codemirror_mode": {
    "name": "ipython",
    "version": 3
   },
   "file_extension": ".py",
   "mimetype": "text/x-python",
   "name": "python",
   "nbconvert_exporter": "python",
   "pygments_lexer": "ipython3",
   "version": "3.7.4"
  }
 },
 "nbformat": 4,
 "nbformat_minor": 2
}
