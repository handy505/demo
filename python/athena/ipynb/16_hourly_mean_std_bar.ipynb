{
 "cells": [
  {
   "cell_type": "code",
   "execution_count": 69,
   "metadata": {},
   "outputs": [],
   "source": [
    "import sqlite3\n",
    "import pandas as pd\n",
    "import numpy as np\n",
    "import matplotlib.pyplot as plt\n",
    "from pandas.plotting import register_matplotlib_converters\n",
    "%matplotlib inline\n",
    "register_matplotlib_converters()"
   ]
  },
  {
   "cell_type": "code",
   "execution_count": 70,
   "metadata": {},
   "outputs": [],
   "source": [
    "filename = '..\\solardb\\AnXin-2020-0505.db'\n",
    "with sqlite3.connect(filename) as con:\n",
    "    invdf  = pd.read_sql('''select * from inverter_minutely''', con=con)\n",
    "invdf.LoggedDatetime  = pd.to_datetime(invdf.LoggedDatetime)"
   ]
  },
  {
   "cell_type": "code",
   "execution_count": 71,
   "metadata": {},
   "outputs": [],
   "source": [
    "invdf = invdf.set_index('LoggedDatetime')"
   ]
  },
  {
   "cell_type": "code",
   "execution_count": 72,
   "metadata": {},
   "outputs": [],
   "source": [
    "inv1 = invdf.query('DeviceID == 1')\n",
    "inv2 = invdf.query('DeviceID == 2')"
   ]
  },
  {
   "cell_type": "code",
   "execution_count": 73,
   "metadata": {},
   "outputs": [
    {
     "name": "stdout",
     "output_type": "stream",
     "text": [
      "2020-05-05 05:00:00 to 2020-05-05 06:00:00, mean:00.884, std:1.203\n",
      "2020-05-05 06:00:00 to 2020-05-05 07:00:00, mean:12.525, std:4.994\n",
      "2020-05-05 07:00:00 to 2020-05-05 08:00:00, mean:26.583, std:3.191\n",
      "2020-05-05 08:00:00 to 2020-05-05 09:00:00, mean:35.334, std:1.889\n",
      "2020-05-05 09:00:00 to 2020-05-05 10:00:00, mean:38.648, std:2.708\n",
      "2020-05-05 10:00:00 to 2020-05-05 11:00:00, mean:43.135, std:0.580\n",
      "2020-05-05 11:00:00 to 2020-05-05 12:00:00, mean:43.447, std:0.564\n",
      "2020-05-05 12:00:00 to 2020-05-05 13:00:00, mean:40.994, std:1.669\n",
      "2020-05-05 13:00:00 to 2020-05-05 14:00:00, mean:35.923, std:2.072\n",
      "2020-05-05 14:00:00 to 2020-05-05 15:00:00, mean:27.709, std:3.163\n",
      "2020-05-05 15:00:00 to 2020-05-05 16:00:00, mean:16.836, std:3.325\n",
      "2020-05-05 16:00:00 to 2020-05-05 17:00:00, mean:06.706, std:2.328\n",
      "2020-05-05 17:00:00 to 2020-05-05 18:00:00, mean:02.263, std:0.704\n"
     ]
    },
    {
     "data": {
      "text/html": [
       "<div>\n",
       "<style scoped>\n",
       "    .dataframe tbody tr th:only-of-type {\n",
       "        vertical-align: middle;\n",
       "    }\n",
       "\n",
       "    .dataframe tbody tr th {\n",
       "        vertical-align: top;\n",
       "    }\n",
       "\n",
       "    .dataframe thead th {\n",
       "        text-align: right;\n",
       "    }\n",
       "</style>\n",
       "<table border=\"1\" class=\"dataframe\">\n",
       "  <thead>\n",
       "    <tr style=\"text-align: right;\">\n",
       "      <th></th>\n",
       "      <th>mean</th>\n",
       "      <th>std</th>\n",
       "    </tr>\n",
       "    <tr>\n",
       "      <th>hour</th>\n",
       "      <th></th>\n",
       "      <th></th>\n",
       "    </tr>\n",
       "  </thead>\n",
       "  <tbody>\n",
       "    <tr>\n",
       "      <td>2020-05-05 05:00:00</td>\n",
       "      <td>0.884043</td>\n",
       "      <td>1.202594</td>\n",
       "    </tr>\n",
       "    <tr>\n",
       "      <td>2020-05-05 06:00:00</td>\n",
       "      <td>12.525085</td>\n",
       "      <td>4.993703</td>\n",
       "    </tr>\n",
       "    <tr>\n",
       "      <td>2020-05-05 07:00:00</td>\n",
       "      <td>26.582712</td>\n",
       "      <td>3.191453</td>\n",
       "    </tr>\n",
       "    <tr>\n",
       "      <td>2020-05-05 08:00:00</td>\n",
       "      <td>35.334237</td>\n",
       "      <td>1.889175</td>\n",
       "    </tr>\n",
       "    <tr>\n",
       "      <td>2020-05-05 09:00:00</td>\n",
       "      <td>38.648448</td>\n",
       "      <td>2.708240</td>\n",
       "    </tr>\n",
       "    <tr>\n",
       "      <td>2020-05-05 10:00:00</td>\n",
       "      <td>43.135476</td>\n",
       "      <td>0.579711</td>\n",
       "    </tr>\n",
       "    <tr>\n",
       "      <td>2020-05-05 11:00:00</td>\n",
       "      <td>43.447241</td>\n",
       "      <td>0.564023</td>\n",
       "    </tr>\n",
       "    <tr>\n",
       "      <td>2020-05-05 12:00:00</td>\n",
       "      <td>40.994048</td>\n",
       "      <td>1.668991</td>\n",
       "    </tr>\n",
       "    <tr>\n",
       "      <td>2020-05-05 13:00:00</td>\n",
       "      <td>35.922759</td>\n",
       "      <td>2.071767</td>\n",
       "    </tr>\n",
       "    <tr>\n",
       "      <td>2020-05-05 14:00:00</td>\n",
       "      <td>27.708983</td>\n",
       "      <td>3.163081</td>\n",
       "    </tr>\n",
       "    <tr>\n",
       "      <td>2020-05-05 15:00:00</td>\n",
       "      <td>16.836207</td>\n",
       "      <td>3.325154</td>\n",
       "    </tr>\n",
       "    <tr>\n",
       "      <td>2020-05-05 16:00:00</td>\n",
       "      <td>6.705763</td>\n",
       "      <td>2.328282</td>\n",
       "    </tr>\n",
       "    <tr>\n",
       "      <td>2020-05-05 17:00:00</td>\n",
       "      <td>2.262759</td>\n",
       "      <td>0.704123</td>\n",
       "    </tr>\n",
       "  </tbody>\n",
       "</table>\n",
       "</div>"
      ],
      "text/plain": [
       "                          mean       std\n",
       "hour                                    \n",
       "2020-05-05 05:00:00   0.884043  1.202594\n",
       "2020-05-05 06:00:00  12.525085  4.993703\n",
       "2020-05-05 07:00:00  26.582712  3.191453\n",
       "2020-05-05 08:00:00  35.334237  1.889175\n",
       "2020-05-05 09:00:00  38.648448  2.708240\n",
       "2020-05-05 10:00:00  43.135476  0.579711\n",
       "2020-05-05 11:00:00  43.447241  0.564023\n",
       "2020-05-05 12:00:00  40.994048  1.668991\n",
       "2020-05-05 13:00:00  35.922759  2.071767\n",
       "2020-05-05 14:00:00  27.708983  3.163081\n",
       "2020-05-05 15:00:00  16.836207  3.325154\n",
       "2020-05-05 16:00:00   6.705763  2.328282\n",
       "2020-05-05 17:00:00   2.262759  0.704123"
      ]
     },
     "execution_count": 73,
     "metadata": {},
     "output_type": "execute_result"
    }
   ],
   "source": [
    "import collections\n",
    "interval = collections.OrderedDict()\n",
    "for h in range(5, 18):\n",
    "    t1 = '2020-05-05 {:02d}:00:00'.format(h)\n",
    "    t2 = '2020-05-05 {:02d}:00:00'.format(h+1)\n",
    "    interval[h] = (t1, t2)\n",
    "    #print('{}, {}'.format(t1, t2))\n",
    "\n",
    "data = []\n",
    "for t in interval.values():\n",
    "    #print('{}, {}'.format(t[0], t[1]))\n",
    "    invh = inv1[t[0]:t[1]]\n",
    "    print('{} to {}, mean:{:06.3f}, std:{:4.3f}'.format(t[0], t[1], invh.ACOutputPower.mean(), invh.ACOutputPower.std()))\n",
    "    \n",
    "    d = {'hour': t[0], 'mean': invh.ACOutputPower.mean(), 'std': invh.ACOutputPower.std()}\n",
    "    data.append(d)\n",
    "    \n",
    "df = pd.DataFrame(data)\n",
    "df = df.set_index('hour')\n",
    "df"
   ]
  },
  {
   "cell_type": "code",
   "execution_count": 74,
   "metadata": {},
   "outputs": [
    {
     "data": {
      "text/plain": [
       "<matplotlib.axes._subplots.AxesSubplot at 0x21614213108>"
      ]
     },
     "execution_count": 74,
     "metadata": {},
     "output_type": "execute_result"
    },
    {
     "data": {
      "image/png": "[encoded data removed]",
      "text/plain": [
       "<Figure size 432x288 with 1 Axes>"
      ]
     },
     "metadata": {
      "needs_background": "light"
     },
     "output_type": "display_data"
    }
   ],
   "source": [
    "%matplotlib inline\n",
    "import matplotlib.pyplot as plt\n",
    "import seaborn as sns\n",
    "import matplotlib\n",
    "#matplotlib.style.use(\"ggplot\")\n",
    "df.plot.bar()\n"
   ]
  },
  {
   "cell_type": "code",
   "execution_count": null,
   "metadata": {},
   "outputs": [],
   "source": []
  },
  {
   "cell_type": "code",
   "execution_count": null,
   "metadata": {},
   "outputs": [],
   "source": []
  },
  {
   "cell_type": "code",
   "execution_count": null,
   "metadata": {},
   "outputs": [],
   "source": []
  },
  {
   "cell_type": "code",
   "execution_count": null,
   "metadata": {},
   "outputs": [],
   "source": []
  }
 ],
 "metadata": {
  "kernelspec": {
   "display_name": "Python 3",
   "language": "python",
   "name": "python3"
  },
  "language_info": {
   "codemirror_mode": {
    "name": "ipython",
    "version": 3
   },
   "file_extension": ".py",
   "mimetype": "text/x-python",
   "name": "python",
   "nbconvert_exporter": "python",
   "pygments_lexer": "ipython3",
   "version": "3.8.5"
  }
 },
 "nbformat": 4,
 "nbformat_minor": 2
}
