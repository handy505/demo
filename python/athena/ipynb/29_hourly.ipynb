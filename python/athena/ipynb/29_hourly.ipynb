{
 "cells": [
  {
   "cell_type": "code",
   "execution_count": 1,
   "metadata": {},
   "outputs": [],
   "source": [
    "import sqlite3\n",
    "import pandas as pd\n",
    "import numpy as np\n",
    "import matplotlib.pyplot as plt\n",
    "from pandas.plotting import register_matplotlib_converters\n",
    "%matplotlib inline\n",
    "register_matplotlib_converters()"
   ]
  },
  {
   "cell_type": "code",
   "execution_count": 54,
   "metadata": {},
   "outputs": [
    {
     "name": "stdout",
     "output_type": "stream",
     "text": [
      "GenKWH-1\n",
      "GenKWH-2\n",
      "GenKWH-3\n",
      "GenKWH-4\n",
      "GenKWH-5\n",
      "GenKWH-18\n",
      "GenKWH-19\n",
      "      GenKWH-1  GenKWH-2  GenKWH-3  GenKWH-4  GenKWH-5  GenKWH-18  GenKWH-19\n",
      "hour                                                                        \n",
      "05         0.0       1.0       1.0       1.0       0.0        0.0        0.0\n",
      "06        12.0      11.0      13.0      13.0      13.0        6.0        2.0\n",
      "07        27.0      22.0      26.0      27.0      28.0       12.0        7.0\n",
      "08        35.0      32.0      35.0      35.0      36.0       16.0       11.0\n",
      "09        37.0      36.0      38.0      37.0      38.0       17.0       10.0\n",
      "10        42.0      40.0      42.0      40.0      41.0       20.0       10.0\n",
      "11        43.0      42.0      42.0      41.0      42.0       19.0       10.0\n",
      "12        39.0      40.0      39.0      38.0      39.0       14.0        9.0\n",
      "13        36.0      37.0      35.0      33.0      34.0       15.0        9.0\n",
      "14        27.0      29.0      27.0      25.0      26.0       14.0       10.0\n",
      "15        16.0      18.0      17.0      15.0      15.0       10.0        8.0\n",
      "16         7.0       9.0       6.0       6.0       6.0        8.0        6.0\n",
      "17         2.0       3.0       2.0       2.0       2.0        2.0        1.0\n",
      "18         1.0       0.0       0.0       0.0       1.0        1.0        0.0\n",
      "19         NaN       NaN       NaN       NaN       NaN        NaN        1.0\n"
     ]
    }
   ],
   "source": [
    "filename = '../data/demo_2020_0505.sqlite'\n",
    "\n",
    "def get_hourly_kwh(filename):\n",
    "    dfs = {}\n",
    "    for id in (1,2,3,4,5,18,19):\n",
    "        cname = 'GenKWH-{}'.format(id)\n",
    "        print(cname)\n",
    "        with sqlite3.connect(filename) as con:\n",
    "            sql = '''SELECT \n",
    "                         strftime(\"%H\", LoggedDatetime) AS hour,  \n",
    "                         (MAX(KWH) - MIN(KWH)) AS GenKWH\n",
    "                     FROM \n",
    "                         inverter_minutely \n",
    "                     WHERE\n",
    "                         DeviceID == (?)\n",
    "                     GROUP BY hour;'''\n",
    "            invdf  = pd.read_sql(sql, con=con, params=(id,))\n",
    "            invdf = invdf.rename(columns={'GenKWH': 'GenKWH-{}'.format(id)})\n",
    "            invdf = invdf.set_index('hour')\n",
    "        dfs[id] = invdf\n",
    "    dfs = pd.concat(dfs.values(), axis=1)\n",
    "    return dfs\n",
    "\n",
    "\n",
    "dfs = get_hourly_kwh(filename)\n",
    "print(dfs)\n",
    "\n"
   ]
  },
  {
   "cell_type": "code",
   "execution_count": 55,
   "metadata": {},
   "outputs": [
    {
     "data": {
      "text/plain": [
       "<AxesSubplot:xlabel='hour'>"
      ]
     },
     "execution_count": 55,
     "metadata": {},
     "output_type": "execute_result"
    },
    {
     "data": {
      "image/png": "[encoded data removed]",
      "text/plain": [
       "<Figure size 432x288 with 1 Axes>"
      ]
     },
     "metadata": {},
     "output_type": "display_data"
    }
   ],
   "source": [
    "\n",
    "\n",
    "\n",
    "matplotlib.style.use(\"ggplot\")\n",
    "dfs.plot.bar()"
   ]
  },
  {
   "cell_type": "code",
   "execution_count": null,
   "metadata": {},
   "outputs": [],
   "source": [
    "\n"
   ]
  },
  {
   "cell_type": "code",
   "execution_count": null,
   "metadata": {},
   "outputs": [],
   "source": []
  },
  {
   "cell_type": "code",
   "execution_count": null,
   "metadata": {},
   "outputs": [],
   "source": [
    "\n"
   ]
  },
  {
   "cell_type": "code",
   "execution_count": null,
   "metadata": {},
   "outputs": [],
   "source": []
  },
  {
   "cell_type": "code",
   "execution_count": null,
   "metadata": {},
   "outputs": [],
   "source": []
  },
  {
   "cell_type": "code",
   "execution_count": null,
   "metadata": {},
   "outputs": [],
   "source": []
  },
  {
   "cell_type": "code",
   "execution_count": null,
   "metadata": {},
   "outputs": [],
   "source": []
  }
 ],
 "metadata": {
  "kernelspec": {
   "display_name": "Python 3",
   "language": "python",
   "name": "python3"
  },
  "language_info": {
   "codemirror_mode": {
    "name": "ipython",
    "version": 3
   },
   "file_extension": ".py",
   "mimetype": "text/x-python",
   "name": "python",
   "nbconvert_exporter": "python",
   "pygments_lexer": "ipython3",
   "version": "3.8.5"
  }
 },
 "nbformat": 4,
 "nbformat_minor": 2
}
