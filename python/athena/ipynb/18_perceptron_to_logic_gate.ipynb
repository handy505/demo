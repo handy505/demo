{
 "cells": [
  {
   "cell_type": "code",
   "execution_count": 1,
   "metadata": {},
   "outputs": [
    {
     "name": "stdout",
     "output_type": "stream",
     "text": [
      "1\n",
      "0\n",
      "0\n",
      "0\n"
     ]
    }
   ],
   "source": [
    "'''\n",
    "用 perceptron 做邏輯閘\n",
    "'''\n",
    "def dot(vs, ws):\n",
    "    xs = [v*w for v, w in zip(vs, ws)]\n",
    "    result = sum(xs)\n",
    "    return result\n",
    "\n",
    "\n",
    "def step_function(x):\n",
    "    if x >= 0: return 1\n",
    "    else:      return 0\n",
    "\n",
    "    \n",
    "def proceptron_output(ws, b, xs):\n",
    "    result = dot(ws, xs) + b\n",
    "    result = step_function(result)\n",
    "    return result\n",
    "    \n",
    "\n",
    "# AND Gate    \n",
    "ws = [2,2]\n",
    "b = -3\n",
    "\n",
    "print(proceptron_output(ws, b, [1,1]))\n",
    "print(proceptron_output(ws, b, [1,0]))\n",
    "print(proceptron_output(ws, b, [0,1]))\n",
    "print(proceptron_output(ws, b, [0,0]))"
   ]
  },
  {
   "cell_type": "code",
   "execution_count": 2,
   "metadata": {},
   "outputs": [
    {
     "name": "stdout",
     "output_type": "stream",
     "text": [
      "1\n",
      "1\n",
      "1\n",
      "0\n"
     ]
    }
   ],
   "source": [
    "# OR Gate    \n",
    "ws = [2,2]\n",
    "b = -1\n",
    "\n",
    "print(proceptron_output(ws, b, [1,1]))\n",
    "print(proceptron_output(ws, b, [1,0]))\n",
    "print(proceptron_output(ws, b, [0,1]))\n",
    "print(proceptron_output(ws, b, [0,0]))"
   ]
  },
  {
   "cell_type": "code",
   "execution_count": 3,
   "metadata": {},
   "outputs": [
    {
     "name": "stdout",
     "output_type": "stream",
     "text": [
      "0\n",
      "1\n"
     ]
    }
   ],
   "source": [
    "# NOT Gate    \n",
    "ws = [-2]\n",
    "b = 1\n",
    "\n",
    "print(proceptron_output(ws, b, [1]))\n",
    "print(proceptron_output(ws, b, [0]))"
   ]
  },
  {
   "cell_type": "code",
   "execution_count": 4,
   "metadata": {},
   "outputs": [],
   "source": [
    "# ws 跟 b 也就是學習的目標"
   ]
  },
  {
   "cell_type": "code",
   "execution_count": 7,
   "metadata": {},
   "outputs": [
    {
     "data": {
      "text/plain": [
       "20"
      ]
     },
     "execution_count": 7,
     "metadata": {},
     "output_type": "execute_result"
    }
   ],
   "source": [
    "import numpy as np\n",
    "np.dot([2,9], [1,2])"
   ]
  },
  {
   "cell_type": "code",
   "execution_count": null,
   "metadata": {},
   "outputs": [],
   "source": []
  },
  {
   "cell_type": "code",
   "execution_count": null,
   "metadata": {},
   "outputs": [],
   "source": []
  },
  {
   "cell_type": "code",
   "execution_count": null,
   "metadata": {},
   "outputs": [],
   "source": []
  },
  {
   "cell_type": "code",
   "execution_count": null,
   "metadata": {},
   "outputs": [],
   "source": []
  },
  {
   "cell_type": "code",
   "execution_count": null,
   "metadata": {},
   "outputs": [],
   "source": []
  },
  {
   "cell_type": "code",
   "execution_count": null,
   "metadata": {},
   "outputs": [],
   "source": []
  }
 ],
 "metadata": {
  "kernelspec": {
   "display_name": "Python 3",
   "language": "python",
   "name": "python3"
  },
  "language_info": {
   "codemirror_mode": {
    "name": "ipython",
    "version": 3
   },
   "file_extension": ".py",
   "mimetype": "text/x-python",
   "name": "python",
   "nbconvert_exporter": "python",
   "pygments_lexer": "ipython3",
   "version": "3.7.4"
  }
 },
 "nbformat": 4,
 "nbformat_minor": 2
}
