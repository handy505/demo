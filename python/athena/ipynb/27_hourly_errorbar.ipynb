{
 "cells": [
  {
   "cell_type": "code",
   "execution_count": 1,
   "metadata": {},
   "outputs": [],
   "source": [
    "import sqlite3\n",
    "import pandas as pd\n",
    "import numpy as np\n",
    "import matplotlib.pyplot as plt\n",
    "from pandas.plotting import register_matplotlib_converters\n",
    "%matplotlib inline\n",
    "register_matplotlib_converters()"
   ]
  },
  {
   "cell_type": "code",
   "execution_count": 16,
   "metadata": {},
   "outputs": [],
   "source": [
    "filename = '../data/demo_2020_0505.sqlite'\n",
    "\n",
    "with sqlite3.connect(filename) as con:\n",
    "    invdf  = pd.read_sql('''select * from inverter_minutely''', con=con)\n",
    "invdf.LoggedDatetime  = pd.to_datetime(invdf.LoggedDatetime)\n"
   ]
  },
  {
   "cell_type": "code",
   "execution_count": 3,
   "metadata": {},
   "outputs": [],
   "source": [
    "invdf = invdf.set_index('LoggedDatetime')"
   ]
  },
  {
   "cell_type": "code",
   "execution_count": 4,
   "metadata": {},
   "outputs": [],
   "source": [
    "inv1 = invdf.query('DeviceID == 1')\n",
    "inv2 = invdf.query('DeviceID == 2')"
   ]
  },
  {
   "cell_type": "code",
   "execution_count": 29,
   "metadata": {},
   "outputs": [
    {
     "data": {
      "text/html": [
       "<div>\n",
       "<style scoped>\n",
       "    .dataframe tbody tr th:only-of-type {\n",
       "        vertical-align: middle;\n",
       "    }\n",
       "\n",
       "    .dataframe tbody tr th {\n",
       "        vertical-align: top;\n",
       "    }\n",
       "\n",
       "    .dataframe thead th {\n",
       "        text-align: right;\n",
       "    }\n",
       "</style>\n",
       "<table border=\"1\" class=\"dataframe\">\n",
       "  <thead>\n",
       "    <tr style=\"text-align: right;\">\n",
       "      <th></th>\n",
       "      <th>mean</th>\n",
       "      <th>std</th>\n",
       "    </tr>\n",
       "    <tr>\n",
       "      <th>hour</th>\n",
       "      <th></th>\n",
       "      <th></th>\n",
       "    </tr>\n",
       "  </thead>\n",
       "  <tbody>\n",
       "    <tr>\n",
       "      <th>5</th>\n",
       "      <td>0.884043</td>\n",
       "      <td>1.202594</td>\n",
       "    </tr>\n",
       "    <tr>\n",
       "      <th>6</th>\n",
       "      <td>12.525085</td>\n",
       "      <td>4.993703</td>\n",
       "    </tr>\n",
       "    <tr>\n",
       "      <th>7</th>\n",
       "      <td>26.582712</td>\n",
       "      <td>3.191453</td>\n",
       "    </tr>\n",
       "    <tr>\n",
       "      <th>8</th>\n",
       "      <td>35.334237</td>\n",
       "      <td>1.889175</td>\n",
       "    </tr>\n",
       "    <tr>\n",
       "      <th>9</th>\n",
       "      <td>38.648448</td>\n",
       "      <td>2.708240</td>\n",
       "    </tr>\n",
       "    <tr>\n",
       "      <th>10</th>\n",
       "      <td>43.135476</td>\n",
       "      <td>0.579711</td>\n",
       "    </tr>\n",
       "    <tr>\n",
       "      <th>11</th>\n",
       "      <td>43.447241</td>\n",
       "      <td>0.564023</td>\n",
       "    </tr>\n",
       "    <tr>\n",
       "      <th>12</th>\n",
       "      <td>40.994048</td>\n",
       "      <td>1.668991</td>\n",
       "    </tr>\n",
       "    <tr>\n",
       "      <th>13</th>\n",
       "      <td>35.922759</td>\n",
       "      <td>2.071767</td>\n",
       "    </tr>\n",
       "    <tr>\n",
       "      <th>14</th>\n",
       "      <td>27.708983</td>\n",
       "      <td>3.163081</td>\n",
       "    </tr>\n",
       "    <tr>\n",
       "      <th>15</th>\n",
       "      <td>16.836207</td>\n",
       "      <td>3.325154</td>\n",
       "    </tr>\n",
       "    <tr>\n",
       "      <th>16</th>\n",
       "      <td>6.705763</td>\n",
       "      <td>2.328282</td>\n",
       "    </tr>\n",
       "    <tr>\n",
       "      <th>17</th>\n",
       "      <td>2.262759</td>\n",
       "      <td>0.704123</td>\n",
       "    </tr>\n",
       "  </tbody>\n",
       "</table>\n",
       "</div>"
      ],
      "text/plain": [
       "           mean       std\n",
       "hour                     \n",
       "5      0.884043  1.202594\n",
       "6     12.525085  4.993703\n",
       "7     26.582712  3.191453\n",
       "8     35.334237  1.889175\n",
       "9     38.648448  2.708240\n",
       "10    43.135476  0.579711\n",
       "11    43.447241  0.564023\n",
       "12    40.994048  1.668991\n",
       "13    35.922759  2.071767\n",
       "14    27.708983  3.163081\n",
       "15    16.836207  3.325154\n",
       "16     6.705763  2.328282\n",
       "17     2.262759  0.704123"
      ]
     },
     "execution_count": 29,
     "metadata": {},
     "output_type": "execute_result"
    }
   ],
   "source": [
    "import collections\n",
    "interval = collections.OrderedDict()\n",
    "for h in range(5, 18):\n",
    "    t1 = '2020-05-05 {:02d}:00:00'.format(h)\n",
    "    t2 = '2020-05-05 {:02d}:00:00'.format(h+1)\n",
    "    interval[h] = (t1, t2)\n",
    "#print(interval)\n",
    "data = []\n",
    "for k, t in interval.items():\n",
    "    #print('{}, {}'.format(t[0], t[1]))\n",
    "    invh = inv1[t[0]:t[1]]\n",
    "    #print('{} to {}, mean:{:06.3f}, std:{:4.3f}'.format(t[0], t[1], invh.ACOutputPower.mean(), invh.ACOutputPower.std()))\n",
    "    \n",
    "    #d = {'hour': t[0], 'mean': invh.ACOutputPower.mean(), 'std': invh.ACOutputPower.std()}\n",
    "    d = {'hour': k, 'mean': invh.ACOutputPower.mean(), 'std': invh.ACOutputPower.std()}\n",
    "    data.append(d)\n",
    "    \n",
    "df = pd.DataFrame(data)\n",
    "df = df.set_index('hour')\n",
    "df"
   ]
  },
  {
   "cell_type": "code",
   "execution_count": 44,
   "metadata": {},
   "outputs": [
    {
     "name": "stdout",
     "output_type": "stream",
     "text": [
      "           mean       std\n",
      "hour                     \n",
      "5      0.884043  1.202594\n",
      "6     12.525085  4.993703\n",
      "7     26.582712  3.191453\n",
      "8     35.334237  1.889175\n",
      "9     38.648448  2.708240\n",
      "10    43.135476  0.579711\n",
      "11    43.447241  0.564023\n",
      "12    40.994048  1.668991\n",
      "13    35.922759  2.071767\n",
      "14    27.708983  3.163081\n",
      "15    16.836207  3.325154\n",
      "16     6.705763  2.328282\n",
      "17     2.262759  0.704123\n"
     ]
    },
    {
     "data": {
      "text/plain": [
       "<AxesSubplot:xlabel='hour'>"
      ]
     },
     "execution_count": 44,
     "metadata": {},
     "output_type": "execute_result"
    },
    {
     "data": {
      "image/png": "[encoded data removed]",
      "text/plain": [
       "<Figure size 432x288 with 1 Axes>"
      ]
     },
     "metadata": {},
     "output_type": "display_data"
    }
   ],
   "source": [
    "%matplotlib inline\n",
    "import matplotlib.pyplot as plt\n",
    "import seaborn as sns\n",
    "import matplotlib\n",
    "matplotlib.style.use(\"ggplot\")\n",
    "print(df)\n",
    "df['mean'].plot.bar(yerr=df['std'])\n",
    "#df.mean\n",
    "#plt.errorbar(df.index, df.mean, yerr=df.std, fmt='.k')\n"
   ]
  },
  {
   "cell_type": "code",
   "execution_count": null,
   "metadata": {},
   "outputs": [],
   "source": []
  },
  {
   "cell_type": "code",
   "execution_count": null,
   "metadata": {},
   "outputs": [],
   "source": []
  },
  {
   "cell_type": "code",
   "execution_count": null,
   "metadata": {},
   "outputs": [],
   "source": []
  },
  {
   "cell_type": "code",
   "execution_count": null,
   "metadata": {},
   "outputs": [],
   "source": []
  }
 ],
 "metadata": {
  "kernelspec": {
   "display_name": "Python 3",
   "language": "python",
   "name": "python3"
  },
  "language_info": {
   "codemirror_mode": {
    "name": "ipython",
    "version": 3
   },
   "file_extension": ".py",
   "mimetype": "text/x-python",
   "name": "python",
   "nbconvert_exporter": "python",
   "pygments_lexer": "ipython3",
   "version": "3.8.5"
  }
 },
 "nbformat": 4,
 "nbformat_minor": 2
}
