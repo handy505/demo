{
 "cells": [
  {
   "cell_type": "markdown",
   "metadata": {},
   "source": [
    "# 球的移動軌跡，一個極度土炮的物理引擎"
   ]
  },
  {
   "cell_type": "code",
   "execution_count": 1,
   "metadata": {},
   "outputs": [
    {
     "name": "stdout",
     "output_type": "stream",
     "text": [
      "Location:(7,6), Acceleration: (2,1)\n",
      "Location:(9,7), Acceleration: (2,1)\n",
      "Location:(11,8), Acceleration: (2,1)\n",
      "Location:(13,9), Acceleration: (2,1)\n",
      "Location:(15,10), Acceleration: (2,1)\n",
      "Location:(17,11), Acceleration: (2,1)\n",
      "Location:(19,12), Acceleration: (2,1)\n",
      "Location:(21,13), Acceleration: (2,1)\n",
      "Location:(23,14), Acceleration: (2,1)\n",
      "Location:(25,15), Acceleration: (2,1)\n",
      "Location:(27,16), Acceleration: (2,1)\n",
      "Location:(29,17), Acceleration: (2,1)\n",
      "Location:(31,18), Acceleration: (2,1)\n",
      "Location:(33,19), Acceleration: (2,1)\n",
      "Location:(35,20), Acceleration: (2,1)\n",
      "Location:(37,21), Acceleration: (2,1)\n",
      "Location:(39,22), Acceleration: (2,1)\n",
      "Location:(41,23), Acceleration: (2,1)\n",
      "Location:(43,24), Acceleration: (2,1)\n",
      "Location:(45,25), Acceleration: (2,1)\n",
      "Location:(47,26), Acceleration: (2,1)\n",
      "Location:(49,27), Acceleration: (2,1)\n",
      "Location:(49,28), Acceleration: (-2,1)\n",
      "Location:(47,29), Acceleration: (-2,1)\n",
      "Location:(45,30), Acceleration: (-2,1)\n",
      "Location:(43,31), Acceleration: (-2,1)\n",
      "Location:(41,32), Acceleration: (-2,1)\n",
      "Location:(39,33), Acceleration: (-2,1)\n",
      "Location:(37,34), Acceleration: (-2,1)\n",
      "Location:(35,35), Acceleration: (-2,1)\n",
      "Location:(33,36), Acceleration: (-2,1)\n",
      "Location:(31,37), Acceleration: (-2,1)\n",
      "Location:(29,38), Acceleration: (-2,1)\n",
      "Location:(27,39), Acceleration: (-2,1)\n",
      "Location:(25,40), Acceleration: (-2,1)\n",
      "Location:(23,41), Acceleration: (-2,1)\n",
      "Location:(21,42), Acceleration: (-2,1)\n",
      "Location:(19,43), Acceleration: (-2,1)\n",
      "Location:(17,44), Acceleration: (-2,1)\n",
      "Location:(15,45), Acceleration: (-2,1)\n",
      "Location:(13,46), Acceleration: (-2,1)\n",
      "Location:(11,47), Acceleration: (-2,1)\n",
      "Location:(9,48), Acceleration: (-2,1)\n",
      "Location:(7,49), Acceleration: (-2,1)\n",
      "Location:(5,50), Acceleration: (-2,1)\n",
      "Location:(3,49), Acceleration: (-2,-1)\n",
      "Location:(1,48), Acceleration: (-2,-1)\n",
      "Location:(-1,47), Acceleration: (-2,-1)\n",
      "Location:(-3,46), Acceleration: (-2,-1)\n",
      "Location:(-5,45), Acceleration: (-2,-1)\n",
      "Location:(-7,44), Acceleration: (-2,-1)\n",
      "Location:(-9,43), Acceleration: (-2,-1)\n",
      "Location:(-11,42), Acceleration: (-2,-1)\n",
      "Location:(-13,41), Acceleration: (-2,-1)\n",
      "Location:(-15,40), Acceleration: (-2,-1)\n",
      "Location:(-17,39), Acceleration: (-2,-1)\n",
      "Location:(-19,38), Acceleration: (-2,-1)\n",
      "Location:(-21,37), Acceleration: (-2,-1)\n",
      "Location:(-23,36), Acceleration: (-2,-1)\n",
      "Location:(-25,35), Acceleration: (-2,-1)\n",
      "Location:(-27,34), Acceleration: (-2,-1)\n",
      "Location:(-29,33), Acceleration: (-2,-1)\n",
      "Location:(-31,32), Acceleration: (-2,-1)\n",
      "Location:(-33,31), Acceleration: (-2,-1)\n",
      "Location:(-35,30), Acceleration: (-2,-1)\n",
      "Location:(-37,29), Acceleration: (-2,-1)\n",
      "Location:(-39,28), Acceleration: (-2,-1)\n",
      "Location:(-41,27), Acceleration: (-2,-1)\n",
      "Location:(-43,26), Acceleration: (-2,-1)\n",
      "Location:(-45,25), Acceleration: (-2,-1)\n",
      "Location:(-47,24), Acceleration: (-2,-1)\n",
      "Location:(-49,23), Acceleration: (-2,-1)\n",
      "Location:(-51,22), Acceleration: (2,-1)\n",
      "Location:(-49,21), Acceleration: (2,-1)\n",
      "Location:(-47,20), Acceleration: (2,-1)\n",
      "Location:(-45,19), Acceleration: (2,-1)\n",
      "Location:(-43,18), Acceleration: (2,-1)\n",
      "Location:(-41,17), Acceleration: (2,-1)\n",
      "Location:(-39,16), Acceleration: (2,-1)\n",
      "Location:(-37,15), Acceleration: (2,-1)\n",
      "Location:(-35,14), Acceleration: (2,-1)\n",
      "Location:(-33,13), Acceleration: (2,-1)\n",
      "Location:(-31,12), Acceleration: (2,-1)\n",
      "Location:(-29,11), Acceleration: (2,-1)\n",
      "Location:(-27,10), Acceleration: (2,-1)\n",
      "Location:(-25,9), Acceleration: (2,-1)\n",
      "Location:(-23,8), Acceleration: (2,-1)\n",
      "Location:(-21,7), Acceleration: (2,-1)\n",
      "Location:(-19,6), Acceleration: (2,-1)\n",
      "Location:(-17,5), Acceleration: (2,-1)\n",
      "Location:(-15,4), Acceleration: (2,-1)\n",
      "Location:(-13,3), Acceleration: (2,-1)\n",
      "Location:(-11,2), Acceleration: (2,-1)\n",
      "Location:(-9,1), Acceleration: (2,-1)\n",
      "Location:(-7,0), Acceleration: (2,-1)\n",
      "Location:(-5,-1), Acceleration: (2,-1)\n",
      "Location:(-3,-2), Acceleration: (2,-1)\n",
      "Location:(-1,-3), Acceleration: (2,-1)\n",
      "Location:(1,-4), Acceleration: (2,-1)\n",
      "Location:(3,-5), Acceleration: (2,-1)\n"
     ]
    },
    {
     "data": {
      "text/plain": [
       "[<matplotlib.lines.Line2D at 0x7f49d7cf13c8>]"
      ]
     },
     "execution_count": 1,
     "metadata": {},
     "output_type": "execute_result"
    },
    {
     "data": {
      "image/png": "[encoded data removed]",
      "text/plain": [
       "<Figure size 432x288 with 1 Axes>"
      ]
     },
     "metadata": {
      "needs_background": "light"
     },
     "output_type": "display_data"
    }
   ],
   "source": [
    "import random\n",
    "import matplotlib.pyplot as plt\n",
    "%matplotlib inline\n",
    "import numpy as np\n",
    "import pandas as pd\n",
    "\n",
    "class Ball(object):\n",
    "    def __init__(self):\n",
    "        self.x = 5\n",
    "        self.y = 5\n",
    "        self.accx = 2\n",
    "        self.accy = 1\n",
    "        \n",
    "    def move(self):\n",
    "        TOP_BOUNDARY = 50\n",
    "        BUTTOM_BOUNDARY = -50\n",
    "        RIGHT_BOUNDARY = 50\n",
    "        LEFT_BOUNDARY = -50\n",
    "        \n",
    "        self.x += self.accx \n",
    "        if self.x > RIGHT_BOUNDARY:\n",
    "            self.x = RIGHT_BOUNDARY - (self.x - RIGHT_BOUNDARY)\n",
    "            self.accx = -self.accx\n",
    "        elif self.x < LEFT_BOUNDARY:\n",
    "            self.x = LEFT_BOUNDARY + (self.x - LEFT_BOUNDARY)\n",
    "            self.accx = -self.accx\n",
    "            \n",
    "        self.y += self.accy\n",
    "        if self.y > TOP_BOUNDARY:\n",
    "            self.y = TOP_BOUNDARY - (self.y - TOP_BOUNDARY)\n",
    "            self.accy = -self.accy\n",
    "        elif self.y < BUTTOM_BOUNDARY:\n",
    "            self.y = BUTTOM_BOUNDARY + (self.y - BUTTOM_BOUNDARY)\n",
    "            self.accy = -self.accy\n",
    "            \n",
    "b = Ball()    \n",
    "xpath = []\n",
    "ypath = []\n",
    "for _ in range(100):\n",
    "    b.move()\n",
    "    print('Location:({},{}), Acceleration: ({},{})'.format(b.x, b.y, b.accx, b.accy))\n",
    "    xpath.append(b.x)\n",
    "    ypath.append(b.y)\n",
    "        \n",
    "    \n",
    "plt.plot(xpath, ypath, 'ro')"
   ]
  },
  {
   "cell_type": "code",
   "execution_count": null,
   "metadata": {
    "collapsed": true
   },
   "outputs": [],
   "source": []
  }
 ],
 "metadata": {
  "kernelspec": {
   "display_name": "Python 3",
   "language": "python",
   "name": "python3"
  },
  "language_info": {
   "codemirror_mode": {
    "name": "ipython",
    "version": 3
   },
   "file_extension": ".py",
   "mimetype": "text/x-python",
   "name": "python",
   "nbconvert_exporter": "python",
   "pygments_lexer": "ipython3",
   "version": "3.7.1"
  }
 },
 "nbformat": 4,
 "nbformat_minor": 2
}
